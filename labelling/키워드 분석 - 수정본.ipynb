{
 "cells": [
  {
   "cell_type": "code",
   "execution_count": null,
   "metadata": {
    "colab": {
     "base_uri": "https://localhost:8080/"
    },
    "id": "D3kXogkMarhF",
    "outputId": "ae48ce56-6307-4555-ad3d-8716003f44cc"
   },
   "outputs": [],
   "source": [
    "pip install pandas"
   ]
  },
  {
   "cell_type": "code",
   "execution_count": 1,
   "metadata": {
    "id": "vMAvkValaxEc"
   },
   "outputs": [
    {
     "name": "stdout",
     "output_type": "stream",
     "text": [
      "a\n"
     ]
    }
   ],
   "source": [
    "import pandas as pd\n",
    "inputFileName = 'C:/Users/bongs/Desktop/Downloads/민석/민석/성장동력_result.csv'\n",
    "data = pd.read_csv(inputFileName)\n",
    "print('a')"
   ]
  },
  {
   "cell_type": "code",
   "execution_count": 2,
   "metadata": {
    "colab": {
     "base_uri": "https://localhost:8080/"
    },
    "id": "Dx914vUwcJkD",
    "outputId": "47dd3508-1ac6-4b1a-a9e4-d332076e6aa0"
   },
   "outputs": [
    {
     "name": "stdout",
     "output_type": "stream",
     "text": [
      "Index(['Unnamed: 0', 'vec', 'text', 'category', 'label'], dtype='object')\n"
     ]
    }
   ],
   "source": [
    "print(data.columns)\n"
   ]
  },
  {
   "cell_type": "code",
   "execution_count": 3,
   "metadata": {
    "colab": {
     "base_uri": "https://localhost:8080/"
    },
    "id": "8MF6c7PfdNjy",
    "outputId": "e5b1e9d2-4720-4048-8589-d8d534b6cca0"
   },
   "outputs": [
    {
     "name": "stdout",
     "output_type": "stream",
     "text": [
      "                                                   text  label\n",
      "0     기업 귀족노조 해결 이번에 사드배치 문제로 인해 중국 수출이 어려워진 상태에서 현대...    185\n",
      "1     벤처기업 특허 출원 기한 과연 적절한가요 안녕하세요 작은 게임회사를 운영하고 있는 ...    160\n",
      "2     탈원전정책재고 탈원전 정책의 재고를 청원 합니다 원전의 대안으로 제시되고 있는 풍력...     26\n",
      "3     해외 경제 개발 제안합니다 1차 2회에 걸쳐 청와대 메일주소 webmarterpre...    193\n",
      "4     신재생에너지로 해류발전을 추천합니다 해류발전이란게 조수간만의차를 이용한 발전에서 응...    241\n",
      "...                                                 ...    ...\n",
      "6355  국내 반도체 산업의 경쟁력 확보와 공급망 안정화를 위한 정책을 만들어 주시기 바랍니...    212\n",
      "6356  생리대 가격 내려주세요 안녕하세요 생리하는 여학생입니다 사실 생리대를 제돈 용돈으로...    201\n",
      "6357  주4일 근무제 도입을 청원합니다 직장인의 업무효율 증진을 위해 주4일 근무제 도입을...    211\n",
      "6358  코로나 종식 전까지 대체휴일 확대 요청 안녕하십니까 우선 코로나로 인해 방역 경제 ...    117\n",
      "6359  보여주기식 미래먹거리 정책 국민좌절대통령께서 꼭 봐주시길 판데믹시기에 바이오기업들이...      2\n",
      "\n",
      "[6360 rows x 2 columns]\n"
     ]
    }
   ],
   "source": [
    "sample = data[['text','label']]\n",
    "print(sample)\n"
   ]
  },
  {
   "cell_type": "code",
   "execution_count": 4,
   "metadata": {
    "colab": {
     "base_uri": "https://localhost:8080/"
    },
    "id": "f39w_etCf8Kq",
    "outputId": "c29e477b-b3bf-4975-8af9-dfe52df406f0"
   },
   "outputs": [
    {
     "name": "stdout",
     "output_type": "stream",
     "text": [
      "                                                   text  label\n",
      "0     증권거래세 폐지 바랍니다 증권거래세 폐지를 희망합니다 대한민국에 살면서 어떤식으로든...      0\n",
      "1     주식 공매도 폐지해주세요 현행 되어온 주식시장의 공매도는 요즘같은 하락장에서는 거의...      0\n",
      "2     주식시장 개장시간을 축소해 주시기 바랍니다 주식시장활성화가 어느카테고리에 속하는지를...      0\n",
      "3     고용창출중소기업벤처활성화신성장동력의지표현증시안정화비이상적증시폭락방어9연기금코스닥활성...      0\n",
      "4     오늘도 공포 속에서 피눈물 흘리며 오늘도 공포 속에서 피눈물 흘리며 내일을 기다릴수...      0\n",
      "...                                                 ...    ...\n",
      "6355  네이버 공식 포스트 등록제한을 중소기업도 참여할 수 있도록 제한합니다 네이버 포스트...    248\n",
      "6356  네이버 공식 포스트 중소기업 등록제한을 중소기업도 참여할 수 있도록 제안합니다 네이...    248\n",
      "6357  오늘 우리의 뜻을 촛불에 담아 전국민에게 전합시다 광화문 동화면세점앞 6번출구에서 ...    249\n",
      "6358  제주가짜난민 추방 촛불집회 광화문 면세점앞 6번출구 7시에 있을 예정입니다 우리의 ...    249\n",
      "6359  제주난민 추방 촛불 집회가 내일 광화문 7시에 있을 겁니다 광화문 면세점앞6번출구 ...    249\n",
      "\n",
      "[6360 rows x 2 columns]\n",
      "0\n"
     ]
    }
   ],
   "source": [
    "sample1 =sample.sort_values(by=['label'],axis=0)\n",
    "sample1.index = range(0,len(sample))  #index를 0부터 시작하게 만든다.\n",
    "print(sample1)\n",
    "print(sample1.loc[0,'label'])    "
   ]
  },
  {
   "cell_type": "code",
   "execution_count": 113,
   "metadata": {
    "colab": {
     "base_uri": "https://localhost:8080/"
    },
    "id": "AhUWv5m3Z0a1",
    "outputId": "3e821152-ba78-4055-cb60-1e9a9eaed309"
   },
   "outputs": [
    {
     "name": "stdout",
     "output_type": "stream",
     "text": [
      "[0, 25, 67, 142, 153, 171, 198, 240, 273, 306, 314, 324, 364, 383, 390, 391, 413, 444, 485, 491, 540, 589, 658, 693, 727, 740, 767, 807, 882, 902, 936, 954, 979, 980, 996, 1005, 1034, 1048, 1061, 1065, 1085, 1087, 1115, 1136, 1140, 1147, 1166, 1203, 1212, 1241, 1254, 1290, 1310, 1327, 1372, 1379, 1398, 1444, 1515, 1561, 1566, 1644, 1667, 1706, 1720, 1742, 1827, 1864, 1870, 1900, 1904, 1962, 1970, 2007, 2046, 2053, 2099, 2106, 2127, 2131, 2132, 2140, 2171, 2203, 2257, 2297, 2326, 2354, 2403, 2447, 2466, 2507, 2554, 2606, 2667, 2670, 2704, 2769, 2827, 2837, 2843, 2870, 2872, 2933, 2950, 2954, 2967, 3080, 3111, 3112, 3115, 3159, 3180, 3192, 3271, 3292, 3294, 3300, 3317, 3386, 3388, 3419, 3432, 3465, 3466, 3467, 3481, 3482, 3496, 3547, 3614, 3647, 3649, 3664, 3667, 3682, 3730, 3802, 3849, 3852, 3860, 3963, 4021, 4022, 4035, 4071, 4087, 4090, 4121, 4125, 4126, 4134, 4135, 4228, 4253, 4365, 4370, 4393, 4405, 4412, 4413, 4472, 4481, 4485, 4504, 4550, 4556, 4599, 4602, 4612, 4613, 4651, 4705, 4771, 4782, 4835, 4836, 4840, 4892, 4897, 4903, 5015, 5041, 5046, 5099, 5119, 5194, 5235, 5237, 5242, 5248, 5271, 5276, 5278, 5319, 5331, 5340, 5365, 5378, 5380, 5383, 5410, 5415, 5422, 5423, 5424, 5426, 5427, 5428, 5531, 5535, 5585, 5627, 5684, 5690, 5734, 5735, 5744, 5747, 5773, 5833, 5837, 5844, 5863, 5864, 5867, 5888, 5929, 5933, 5956, 5958, 6003, 6018, 6043, 6070, 6083, 6115, 6116, 6119, 6120, 6123, 6124, 6184, 6186, 6214, 6292, 6322, 6324, 6354, 6357]\n",
      "250\n",
      "                                                   text  label\n",
      "3849  수원 고양 용인 창원 특례시 수원 고양 용인 창원 인구가 100만이 넘는 이 4개 ...    138\n",
      "3850  수원 고양 용인 창원 인구가 100만인 지역 특례시 수원울산광역시보다 인구가 많음 ...    138\n",
      "3851  수원 창원 고양 용인 특례시 언제부터 수원 창원 고양 용인 특례시 언제부터 승격하는...    138\n",
      "25\n",
      "7\n",
      "[25, 67, 142, 153, 171, 198, 240, 273, 306, 314, 324, 364, 383, 390, 391, 413, 444, 485, 491, 540, 589, 658, 693, 727, 740, 767, 807, 882, 902, 936, 954, 979, 980, 996, 1005, 1034, 1048, 1061, 1065, 1085, 1087, 1115, 1136, 1140, 1147, 1166, 1203, 1212, 1241, 1254, 1290, 1310, 1327, 1372, 1379, 1398, 1444, 1515, 1561, 1566, 1644, 1667, 1706, 1720, 1742, 1827, 1864, 1870, 1900, 1904, 1962, 1970, 2007, 2046, 2053, 2099, 2106, 2127, 2131, 2132, 2140, 2171, 2203, 2257, 2297, 2326, 2354, 2403, 2447, 2466, 2507, 2554, 2606, 2667, 2670, 2704, 2769, 2827, 2837, 2843, 2870, 2872, 2933, 2950, 2954, 2967, 3080, 3111, 3112, 3115, 3159, 3180, 3192, 3271, 3292, 3294, 3300, 3317, 3386, 3388, 3419, 3432, 3465, 3466, 3467, 3481, 3482, 3496, 3547, 3614, 3647, 3649, 3664, 3667, 3682, 3730, 3802, 3849, 3852, 3860, 3963, 4021, 4022, 4035, 4071, 4087, 4090, 4121, 4125, 4126, 4134, 4135, 4228, 4253, 4365, 4370, 4393, 4405, 4412, 4413, 4472, 4481, 4485, 4504, 4550, 4556, 4599, 4602, 4612, 4613, 4651, 4705, 4771, 4782, 4835, 4836, 4840, 4892, 4897, 4903, 5015, 5041, 5046, 5099, 5119, 5194, 5235, 5237, 5242, 5248, 5271, 5276, 5278, 5319, 5331, 5340, 5365, 5378, 5380, 5383, 5410, 5415, 5422, 5423, 5424, 5426, 5427, 5428, 5531, 5535, 5585, 5627, 5684, 5690, 5734, 5735, 5744, 5747, 5773, 5833, 5837, 5844, 5863, 5864, 5867, 5888, 5929, 5933, 5956, 5958, 6003, 6018, 6043, 6070, 6083, 6115, 6116, 6119, 6120, 6123, 6124, 6184, 6186, 6214, 6292, 6322, 6324, 6354, 6357, 6359]\n",
      "[0, 1, 2, 3, 4, 5, 6, 7, 8, 9, 10, 11, 12, 13, 14, 15, 16, 17, 18, 19, 20, 21, 22, 23, 24]\n",
      "a\n"
     ]
    }
   ],
   "source": [
    "\n",
    "j=0\n",
    "num = []\n",
    "for i in range(len(sample)):\n",
    "  if i == 0:\n",
    "    j = sample1.loc[i,'label']\n",
    "    num.append(i)\n",
    "  if j != sample1.loc[i,'label']:\n",
    "    j = sample1.loc[i,'label']\n",
    "    num.append(i);\n",
    "print(num)\n",
    "del num[0]\n",
    "\n",
    "num.append(len(sample1)-1)\n",
    "#print(len(num))\n",
    "#print(len(sample1))\n",
    "#print( sample1.loc[15002,'text'])\n",
    "#print(num[len(num)-1])\n",
    "#print(num)\n",
    "#print(num[248])\n",
    "#print(sample1.loc[55,'text'])\n",
    "print(len(num))\n",
    "print(sample1[sample1.label ==138])\n",
    "print(len(sample1[sample1.label ==0]))\n",
    "print(sample1.loc[248,'label'])\n",
    "print(num)\n",
    "print(list(range(25)))\n",
    "a =0\n",
    "if a ==0:\n",
    "    print('a')\n",
    "elif a==0:\n",
    "    print('b')"
   ]
  },
  {
   "cell_type": "code",
   "execution_count": 114,
   "metadata": {
    "colab": {
     "base_uri": "https://localhost:8080/"
    },
    "id": "iFFqnfiFe_Xd",
    "outputId": "a5f52233-7e8b-4e6e-cfc9-da132958cc60"
   },
   "outputs": [
    {
     "name": "stdout",
     "output_type": "stream",
     "text": [
      "수원 고양 용인 창원 특례시 수원 고양 용인 창원 인구가 100만이 넘는 이 4개 지역을 특례시로 지정해주세요\n",
      " 수원 고양 용인 창원 인구가 100만인 지역 특례시 수원울산광역시보다 인구가 많음 고양 용인 창원 인구가 100만이 넘는 이 4개 지역을 특례시로 지정해주세요\n",
      " 수원 창원 고양 용인 특례시 언제부터 수원 창원 고양 용인 특례시 언제부터 승격하는건가요\n",
      " \n"
     ]
    }
   ],
   "source": [
    "count =0\n",
    "result = []\n",
    "\"\"\"\n",
    "for i in num:  # 56 81 227 279 300 ... 15001 15002\n",
    "  text = ''\n",
    "  for j in range(i+1): # 0 1 2 3 4 ... 56 (실제 57에서 값 변경) # 처음  j=15002\n",
    "    if count == 0:\n",
    "        if j == num[count]:\n",
    "            text += sample1.loc[j-1,'text'] + ' '\n",
    "        else:\n",
    "            text += sample1.loc[j,'text'] + ' '\n",
    "    elif j >= num[count-1] and count != 0:\n",
    "     # print(count, ' ') #249 에러\n",
    "        if j == num[count]:\n",
    "            text += sample1.loc[j-1,'text'] + ' '\n",
    "        else: \n",
    "            text += sample1.loc[j,'text'] + ' '\n",
    "         #  print(sample1.loc[j-1,'text'] + ' ')\n",
    "  result.append(text)\n",
    "  count += 1\n",
    "\"\"\"\n",
    "for i in num:\n",
    "    text =''\n",
    "    for j in range(i):\n",
    "        if count ==0:\n",
    "            text += sample1.loc[j,'text'] + ' '\n",
    "        elif j >= num[count-1]:\n",
    "            text += sample1.loc[j,'text'] + ' '\n",
    "    if count == len(num)-1:\n",
    "        text += sample1.loc[num[-1],'text']\n",
    "    result.append(text)\n",
    "    count += 1\n",
    "    \n",
    "\n",
    "print(result[138])\n"
   ]
  },
  {
   "cell_type": "code",
   "execution_count": 23,
   "metadata": {
    "scrolled": true
   },
   "outputs": [
    {
     "name": "stdout",
     "output_type": "stream",
     "text": [
      "250\n"
     ]
    }
   ],
   "source": [
    "print(len(result))"
   ]
  },
  {
   "cell_type": "code",
   "execution_count": null,
   "metadata": {
    "colab": {
     "base_uri": "https://localhost:8080/"
    },
    "id": "tmNQb2Vly9BC",
    "outputId": "f965c23d-1140-43ce-ff16-5405703be2b1"
   },
   "outputs": [],
   "source": [
    "pip install konlpy"
   ]
  },
  {
   "cell_type": "code",
   "execution_count": null,
   "metadata": {
    "colab": {
     "base_uri": "https://localhost:8080/"
    },
    "id": "QqRf-qzT0XaS",
    "outputId": "842503da-7f9a-4dad-88f9-2deae369006e"
   },
   "outputs": [],
   "source": [
    "pip install -U nltk"
   ]
  },
  {
   "cell_type": "code",
   "execution_count": null,
   "metadata": {
    "id": "txX6cUgSw51Z"
   },
   "outputs": [],
   "source": [
    "import re\n",
    "from konlpy.tag import Okt\n",
    "from collections import Counter\n",
    "import matplotlib\n",
    "import matplotlib.pyplot as plt\n",
    "from matplotlib import font_manager, rc\n",
    "from wordcloud import WordCloud\n",
    "i=0\n",
    "for item in result:\n",
    "        result[i] = re.sub('[\\n]',' ', item)\n",
    "        i +=1\n",
    "\n"
   ]
  },
  {
   "cell_type": "code",
   "execution_count": null,
   "metadata": {
    "colab": {
     "base_uri": "https://localhost:8080/",
     "height": 1000
    },
    "id": "dCyEBHc5zIa1",
    "outputId": "2e72da70-3ab7-4b3c-e6af-91c1d4f43315"
   },
   "outputs": [],
   "source": [
    "nlp = Okt()\n",
    "i=0\n",
    "for message in result:\n",
    "  message_N = nlp.nouns(message)\n",
    "  count = Counter(message_N)\n",
    "  word_count = dict()\n",
    "  for tag,counts in count.most_common(80):\n",
    "      if(len(str(tag))>1):\n",
    "          word_count[tag]= counts\n",
    "          print(\"%s : %d\" % (tag,counts))\n",
    "  font_path = \"c:/Windows/fonts/malgun.ttf\"\n",
    "  font_name = font_manager.FontProperties(fname = font_path).get_name()\n",
    "  matplotlib.rc('font',family = font_name)\n",
    "  plt.figure(figsize = (12,5))\n",
    "  plt.xlabel('키워드')\n",
    "  plt.ylabel('빈도수')\n",
    "  plt.title('%d 번째 군집'%i)\n",
    "  plt.grid(True)\n",
    "  sorted_Keys = sorted(word_count, key=word_count.get,reverse = True)\n",
    "  sorted_Values = sorted(word_count.values(),reverse = True)\n",
    "  plt.bar(range(len(word_count)),sorted_Values, align= 'center')\n",
    "  plt.xticks(range(len(word_count)),list(sorted_Keys), rotation='75')\n",
    "  plt.show()\n",
    "  i +=1\n"
   ]
  },
  {
   "cell_type": "markdown",
   "metadata": {
    "id": "ocvr3LSZa1py"
   },
   "source": [
    "# 새 섹션"
   ]
  },
  {
   "cell_type": "code",
   "execution_count": null,
   "metadata": {},
   "outputs": [],
   "source": []
  },
  {
   "cell_type": "code",
   "execution_count": null,
   "metadata": {},
   "outputs": [],
   "source": []
  }
 ],
 "metadata": {
  "colab": {
   "collapsed_sections": [],
   "name": "Untitled9.ipynb",
   "provenance": []
  },
  "kernelspec": {
   "display_name": "Python 3",
   "language": "python",
   "name": "python3"
  },
  "language_info": {
   "codemirror_mode": {
    "name": "ipython",
    "version": 3
   },
   "file_extension": ".py",
   "mimetype": "text/x-python",
   "name": "python",
   "nbconvert_exporter": "python",
   "pygments_lexer": "ipython3",
   "version": "3.8.5"
  }
 },
 "nbformat": 4,
 "nbformat_minor": 1
}
