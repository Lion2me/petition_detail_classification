{
 "cells": [
  {
   "cell_type": "code",
   "execution_count": 1,
   "metadata": {
    "colab": {
     "base_uri": "https://localhost:8080/"
    },
    "id": "D3kXogkMarhF",
    "outputId": "ae48ce56-6307-4555-ad3d-8716003f44cc"
   },
   "outputs": [
    {
     "name": "stdout",
     "output_type": "stream",
     "text": [
      "Requirement already satisfied: pandas in d:\\anaconda\\lib\\site-packages (1.1.3)\n",
      "Requirement already satisfied: python-dateutil>=2.7.3 in d:\\anaconda\\lib\\site-packages (from pandas) (2.8.1)\n",
      "Requirement already satisfied: pytz>=2017.2 in d:\\anaconda\\lib\\site-packages (from pandas) (2020.1)\n",
      "Requirement already satisfied: numpy>=1.15.4 in d:\\anaconda\\lib\\site-packages (from pandas) (1.19.2)\n",
      "Requirement already satisfied: six>=1.5 in d:\\anaconda\\lib\\site-packages (from python-dateutil>=2.7.3->pandas) (1.15.0)\n",
      "Note: you may need to restart the kernel to use updated packages.\n"
     ]
    }
   ],
   "source": [
    "pip install pandas"
   ]
  },
  {
   "cell_type": "code",
   "execution_count": 2,
   "metadata": {
    "id": "vMAvkValaxEc"
   },
   "outputs": [
    {
     "name": "stdout",
     "output_type": "stream",
     "text": [
      "a\n"
     ]
    }
   ],
   "source": [
    "import pandas as pd\n",
    "inputFileName = 'C:/Users/bongs/Desktop/Downloads/민석/민석/일자리_result.csv'\n",
    "data = pd.read_csv(inputFileName)\n",
    "print('a')"
   ]
  },
  {
   "cell_type": "code",
   "execution_count": 3,
   "metadata": {
    "colab": {
     "base_uri": "https://localhost:8080/"
    },
    "id": "Dx914vUwcJkD",
    "outputId": "47dd3508-1ac6-4b1a-a9e4-d332076e6aa0"
   },
   "outputs": [
    {
     "name": "stdout",
     "output_type": "stream",
     "text": [
      "Index(['Unnamed: 0', 'vec', 'text', 'category', 'label'], dtype='object')\n"
     ]
    }
   ],
   "source": [
    "print(data.columns)\n"
   ]
  },
  {
   "cell_type": "code",
   "execution_count": 4,
   "metadata": {
    "colab": {
     "base_uri": "https://localhost:8080/"
    },
    "id": "8MF6c7PfdNjy",
    "outputId": "e5b1e9d2-4720-4048-8589-d8d534b6cca0"
   },
   "outputs": [
    {
     "name": "stdout",
     "output_type": "stream",
     "text": [
      "                                                    text  label\n",
      "0      택배기사의 노동기본권 보장하고 노동조합 설립필증을 발부해주세요 택배기사와 같은 특수...     16\n",
      "1      용역 정부에서 추진하고 있는 일자리 전 정규직도 좋고 무기계약직도 좋습니다 하지만 ...    191\n",
      "2      용역 정부에서 추진하고 있는 일자리 전 정규직도 좋고 무기계약직도 좋습니다 하지만 ...    191\n",
      "3      학교는일자리창출소가 아닌 교육의장입니다 무기계약화 반대합니다공채시험만드세요 정원외 ...     67\n",
      "4      삼성 이재용 부회장에관하여 다시글올립니다 글쓰다가 시간이 넘어갔습니다 전 삼성이란곳...    236\n",
      "...                                                  ...    ...\n",
      "21275  마이너스옵션제도 지금처럼 아파트 시행시공사들이 마감공사까지하지않고 지옉 사업자들이 ...    242\n",
      "21276  체불임금 180억을 받지 못해 어렵게 살아가는 근로자들과 몰래 빼돌린 대금으로 월급...    205\n",
      "21277  조경 글 하나 올려봅니다 20180219 조경이라는 회사에 직원 겸 소장 씨와 일일...    128\n",
      "21278  집합금지해제 8제곱미터당1명씩입장집합금지 현재 85070제곱미터의 영업장을 운영하고...    242\n",
      "21279  아파트 1동만 덜짓고 200 여명 직원들의 삶이 있는 일터와 청년들의 미래일자리를 ...    167\n",
      "\n",
      "[21280 rows x 2 columns]\n"
     ]
    }
   ],
   "source": [
    "sample = data[['text','label']]\n",
    "print(sample)\n"
   ]
  },
  {
   "cell_type": "code",
   "execution_count": 5,
   "metadata": {
    "colab": {
     "base_uri": "https://localhost:8080/"
    },
    "id": "f39w_etCf8Kq",
    "outputId": "c29e477b-b3bf-4975-8af9-dfe52df406f0"
   },
   "outputs": [
    {
     "name": "stdout",
     "output_type": "stream",
     "text": [
      "                                                    text  label\n",
      "0      자영업자 그만 괴롭혀라 말장난 그만했으면 좋겠다 세무조사유예 이런거 그만 써먹고 주...      0\n",
      "1      주휴수당 폐지청원 자영업자들 죽어 나자빠지게 만드는 법 자영업자 살린다고 말로만 하...      0\n",
      "2      자영업자 그만 괴롭혀라 주휴수당 일본꺼 이거라도 하나 없애줘라 일본꺼 베껴서 썼다는...      0\n",
      "3      세금 물가 그만 올리셈 세금 물가 그만 올리셈 자꾸 올라가고 살기힘듬 에이구 걱정이...      0\n",
      "4      주휴수당 일본껀데 안없애냐 일본은 없앴다는데 안없애냐 자영업자 목 그만 비틀어라 목...      0\n",
      "...                                                  ...    ...\n",
      "21275  정년퇴직 과 연금수령기간 연동성 현재 근로자 정년청년실업연금수령시기주52시간 등 사...    249\n",
      "21276  고령화시대에 정년을 65세로 현실화 해주세요 국민연금을 60세에서 65세로 의무가입...    249\n",
      "21277  정년연장 안녕하세요 이렇게 정책 제안이나 청원할수있는 공간이 있어서 참으로 다행스럽...    249\n",
      "21278  정년퇴직 기간을 늘려주세요 현재 한국의 경우 정년퇴직 나이가 55세에서 59세 사이...    249\n",
      "21279  정년연장 근로자 정년 65세까지 해주셨으면 합니다 60세로 연장이 됐지만 그나이에 ...    249\n",
      "\n",
      "[21280 rows x 2 columns]\n",
      "0\n"
     ]
    }
   ],
   "source": [
    "sample1 =sample.sort_values(by=['label'],axis=0)\n",
    "sample1.index = range(0,len(sample))  #index를 0부터 시작하게 만든다.\n",
    "print(sample1)\n",
    "print(sample1.loc[0,'label'])    "
   ]
  },
  {
   "cell_type": "code",
   "execution_count": 6,
   "metadata": {
    "colab": {
     "base_uri": "https://localhost:8080/"
    },
    "id": "AhUWv5m3Z0a1",
    "outputId": "3e821152-ba78-4055-cb60-1e9a9eaed309"
   },
   "outputs": [
    {
     "name": "stdout",
     "output_type": "stream",
     "text": [
      "[0, 12, 99, 118, 177, 256, 504, 590, 638, 692, 778, 810, 980, 1189, 1198, 1224, 1379, 1537, 1560, 1712, 1926, 2048, 2249, 2340, 2455, 2550, 2559, 2631, 2644, 2697, 2805, 2822, 2845, 2873, 3005, 3040, 3137, 3309, 3551, 3695, 3815, 3857, 3979, 4149, 4271, 4278, 4445, 4482, 4599, 4630, 4670, 4821, 4897, 5030, 5162, 5167, 5233, 5281, 5472, 5501, 5631, 5834, 5848, 6105, 6288, 6370, 6449, 6535, 6714, 6809, 6864, 7028, 7223, 7236, 7245, 7300, 7309, 7425, 7450, 7529, 7540, 7598, 7628, 7671, 7770, 7928, 7958, 7995, 8006, 8138, 8159, 8319, 8336, 8348, 8349, 8428, 8447, 8597, 8650, 8693, 8876, 8980, 9010, 9057, 9060, 9204, 9382, 9458, 9586, 9668, 9798, 9890, 9901, 10028, 10171, 10231, 10238, 10469, 10479, 10582, 10689, 10767, 10877, 10969, 11066, 11224, 11232, 11266, 11371, 11589, 11600, 11630, 11882, 11912, 11982, 12153, 12327, 12339, 12524, 12697, 12856, 12865, 12916, 13014, 13176, 13182, 13275, 13281, 13330, 13415, 13463, 13484, 13622, 13661, 13758, 13773, 13806, 13819, 13880, 13953, 14033, 14044, 14101, 14103, 14259, 14270, 14483, 14607, 14751, 14845, 14921, 14933, 15047, 15162, 15170, 15180, 15310, 15489, 15515, 15605, 15611, 15639, 15790, 15813, 16014, 16026, 16083, 16088, 16130, 16154, 16246, 16327, 16408, 16519, 16530, 16544, 16754, 16896, 16915, 17048, 17068, 17138, 17161, 17164, 17309, 17323, 17485, 17506, 17594, 17616, 17785, 17808, 17993, 18093, 18189, 18291, 18450, 18452, 18490, 18496, 18560, 18684, 18751, 18806, 18844, 18946, 19173, 19198, 19340, 19490, 19687, 19689, 19820, 19835, 19960, 19968, 20079, 20243, 20299, 20354, 20382, 20383, 20452, 20558, 20698, 20747, 20859, 20922, 20930, 21206]\n",
      "250\n",
      "21280\n",
      "존경하는 문재인 대통령님 여기다가 매일 일자리 보고서를 작성 해야 할까요 허위 구인 광고를 합니다 일자리 가지고 장난질 치는 사업주 형사처벌 시켜주십시요 이침 6시에 회사에 가서 7시 30분에 업무시작해서 밤 10까지 일을 시켰습니다 반장과 사무실 직원과 싸우더니 일년계약 했는데 팀전원을 사표쓰게했습니다 언니의 말이 더가관인것은 본청에 하청 사람 심어 놓을려고 고래싸움에 새우등터졌다고 했습니다 광고는 8시에서 5시까지 근무라고 광고 해놓았고 잔업을 시켰으나 일이있어 시킨것이아니고 팀전원이 했던거 다시풀고 모여있다가 10시되면 집에 가는것이였습니다 통근버그가 끊길줄도 모르고 1간을 기다려 택시타고 집에 가면 밤11시30분이 되어있습니다 쓸데 없이 밤10까지 잡아두고 일거리도 없는데 계속 사람들 모집하더니 전부 일년 계약한 사람들입니다 그사람들 다사표쓰게 만들고 아침 6시출발해서 6시 30분에 회사도착해서 그때부터 회사속에 있는 길에 그추운데 저녁 5시 까지 세워 두었습니다 생계가지고 장난질칩니다 자동차 부품 회사는 입사 2주내내 다른 업무 지시 구인광고와 다른 시간에 일시키고 들볶습니다 볼트 조립 하는데 입니다 전동드릴들 힘만 있으면 다 하는 일을 뭐때문에 자꾸 시비를 거는지 모르겠습니다 입사 첫날부터 시작해서 이주내내 그럽니다 관리자와 선임이 엄무지시를 다르게 하고 초능력으로 일하길 바랍니다 장애인만 근로 기준인식 개선 시키지 마시고 사업주와 관리자의 근로 기준 인식개선 시켜서 엄한 사람 피해 입지 않게 해주십시요 근로 기준도 더 세분화 해서 정신적 모욕적 언행 감시성 작업지시 등 더세분화 해주십시요 어떻게 일자리 가지고 장난질을 치게 놓아 둘수 있습니까 52시간 근로에 과로 사회 탈피라고 적어놓았던데요 장시간 근무에 관리자 갑질에 일상생활이 힘듭니다 생활을 할려고 일하는데 일하니까 생활이 더힘듭니다\n",
      "\n",
      "21279\n",
      "[12, 99, 118, 177, 256, 504, 590, 638, 692, 778, 810, 980, 1189, 1198, 1224, 1379, 1537, 1560, 1712, 1926, 2048, 2249, 2340, 2455, 2550, 2559, 2631, 2644, 2697, 2805, 2822, 2845, 2873, 3005, 3040, 3137, 3309, 3551, 3695, 3815, 3857, 3979, 4149, 4271, 4278, 4445, 4482, 4599, 4630, 4670, 4821, 4897, 5030, 5162, 5167, 5233, 5281, 5472, 5501, 5631, 5834, 5848, 6105, 6288, 6370, 6449, 6535, 6714, 6809, 6864, 7028, 7223, 7236, 7245, 7300, 7309, 7425, 7450, 7529, 7540, 7598, 7628, 7671, 7770, 7928, 7958, 7995, 8006, 8138, 8159, 8319, 8336, 8348, 8349, 8428, 8447, 8597, 8650, 8693, 8876, 8980, 9010, 9057, 9060, 9204, 9382, 9458, 9586, 9668, 9798, 9890, 9901, 10028, 10171, 10231, 10238, 10469, 10479, 10582, 10689, 10767, 10877, 10969, 11066, 11224, 11232, 11266, 11371, 11589, 11600, 11630, 11882, 11912, 11982, 12153, 12327, 12339, 12524, 12697, 12856, 12865, 12916, 13014, 13176, 13182, 13275, 13281, 13330, 13415, 13463, 13484, 13622, 13661, 13758, 13773, 13806, 13819, 13880, 13953, 14033, 14044, 14101, 14103, 14259, 14270, 14483, 14607, 14751, 14845, 14921, 14933, 15047, 15162, 15170, 15180, 15310, 15489, 15515, 15605, 15611, 15639, 15790, 15813, 16014, 16026, 16083, 16088, 16130, 16154, 16246, 16327, 16408, 16519, 16530, 16544, 16754, 16896, 16915, 17048, 17068, 17138, 17161, 17164, 17309, 17323, 17485, 17506, 17594, 17616, 17785, 17808, 17993, 18093, 18189, 18291, 18450, 18452, 18490, 18496, 18560, 18684, 18751, 18806, 18844, 18946, 19173, 19198, 19340, 19490, 19687, 19689, 19820, 19835, 19960, 19968, 20079, 20243, 20299, 20354, 20382, 20383, 20452, 20558, 20698, 20747, 20859, 20922, 20930, 21206, 21279]\n",
      "21206\n",
      "자활근로자로 정규직으로 전환될 수 있게 해주세요 안녕하세요 저는 학교에서 도서관 도우미로 일을 하고 있습니다 자활근로사업 참여자로 올해 만 4년째 일하고 있습니다 학교사서 실무원과 똑 같은 일을 하고 있음에도 급여는 최저임금도 안되는 아주 적은 금액을 받고 있습니다 대통령께서 정규직 전환정책을 내놓으셨을때 정말 희망이 있다고 생각했는데 정규직 전환 가이드라인을 보니 자활근로자는 아예 제외 대상이더군요 자활근로자를 정규직으로 전환해주면 탈수급할 수 있는 기회가 되어 국가적으로 개인적으로 다 좋은일 아닌가요 저희도 정규직으로 전환될 수 있는 기회를 주세요\n",
      "\n"
     ]
    }
   ],
   "source": [
    "j=0\n",
    "num = []\n",
    "for i in range(len(sample)):\n",
    "  if i == 0:\n",
    "    j = sample1.loc[i,'label']\n",
    "    num.append(i)\n",
    "  if j != sample1.loc[i,'label']:\n",
    "    j = sample1.loc[i,'label']\n",
    "    num.append(i);\n",
    "print(num)\n",
    "del num[0]\n",
    "\n",
    "#num.append(len(sample1)-1)\n",
    "#print(len(num))\n",
    "#print(len(sample1))\n",
    "#print( sample1.loc[15002,'text'])\n",
    "#print(num[len(num)-1])\n",
    "#print(num)\n",
    "#print(num[248])\n",
    "#print(sample1.loc[55,'text'])"
   ]
  },
  {
   "cell_type": "code",
   "execution_count": 7,
   "metadata": {
    "colab": {
     "base_uri": "https://localhost:8080/"
    },
    "id": "iFFqnfiFe_Xd",
    "outputId": "a5f52233-7e8b-4e6e-cfc9-da132958cc60"
   },
   "outputs": [
    {
     "name": "stdout",
     "output_type": "stream",
     "text": [
      "자영업자 그만 괴롭혀라 말장난 그만했으면 좋겠다 세무조사유예 이런거 그만 써먹고 주휴수당 이거 하나라도 없애주면 안되겠니 일본꺼라고 하는데\n",
      " 주휴수당 폐지청원 자영업자들 죽어 나자빠지게 만드는 법 자영업자 살린다고 말로만 하지말고 이거하나 없애라 모지리야\n",
      " 자영업자 그만 괴롭혀라 주휴수당 일본꺼 이거라도 하나 없애줘라 일본꺼 베껴서 썼다는데 일본따라하니까 좋냐\n",
      " 세금 물가 그만 올리셈 세금 물가 그만 올리셈 자꾸 올라가고 살기힘듬 에이구 걱정이다 나라가\n",
      " 주휴수당 일본껀데 안없애냐 일본은 없앴다는데 안없애냐 자영업자 목 그만 비틀어라 목 비틀어도 새벽은 온다고 하더만숨못쉬겠다\n",
      " 말로만 경제살린다고 하지말고 뭐라도 한가지 해라 최저임금을 깎던가 52시간을 없애던가 주휴수당을 없애던가 이중에 하나라도 해야지 경제가 조금 꿈틀거릴것이다 한심하다\n",
      " 한진을 마녀사냥식으로 그만 괴롭혀라 한진을 그만 괴롭혀라 마녀사냥식으로 그만 괴롭혀라 한진보다 더 한 기업도 있다 여론전환용으로 그만 괴롭혀라\n",
      " 자영업대책 124개 필요웁다 주휴수당 한개라도 없애라 껍데기만 번지르르한 124개 자영업대책 아무 필요웁다 주휴수당 한개라도 없애줘라 한심하다\n",
      " 자영업자 살릴려면 주휴수당이나 없애라 다른정책은 더 이상 만들지도 말고 대출도 안해줘도 되고 제발 다른 신경은 써주지않아도 되는데 주휴수당 한가지만 없애줘라 일본따라서 만들었다는데 이것때문에 자영업자들 힘들어한다 부탁한다\n",
      " 우리나라 최고 약자는 자영업자다 자영업자를 살려다오 최저임금좀 그만 올려라 소득주도성장 잘못되었다 잘못을 인정해라 정치정말 못한다 유치원생보다도 못한넘들\n",
      " 물가좀 그만올려라 최저임금좀 그만 올려라 세금좀 그만 올리고 모든것 그만 올려라 실업률도 그만 올리고 한심하다 한심해\n",
      " 경제 살릴 생각이 쪼매라도 있으면 주휴수당 폐지해주세요 세계에서 주휴수당 주는나라 3개다 머저리짓 그만해라 자영업자들 지금 숨넘어가기 일보 직전이다 불쌍하다\n",
      " 독거노인 생활관리사도 정규직 해주세요 문재인정부가 공공부문 부터 정규직 해준다고 했는데 아직도 정규직이 아니에요 2007년 노무현정부에서 시작한 보건복지부 사업입니다 처음엔 이 사업을 계속할수 있을지 불투명해서 1년계약직이었습니다 그런데 독거노인에게 아주 유익한 사업으로 인정받아 11년째 하고 있습니다 매년 면접을 하고 1년계약직으로 하니 신분보장이 안되서 늘 불안하게 일을합니다 지금도 최선을 다해 어르신들을 위해 도와드리고있지만 정규직이 되면 더 긍지를 갖고 안정된 마음으로 일할수 있을 것입니다 전국에 독거노인 생활관리사가 8000여명입니다 정규직해주시면 8000명과 가족들이 모두 행복해 할 것입니다 저희는 보너스도 없습니다 그래도 괜찮다고 우리구 쌤들이 그랬습니다 정규직만 해주시면 됩니다 정규직된다고 예산이 더 들지도 않습니다 현재 모두 성실히 일하기 때문에 재계약됩니다 모두가 현재와 똑같습니다 서류에 정규직이라고 쓰이는것 뿐입니다 내년에는 꼭 정규직이 될수 있기를 간절히 바랍니다\n",
      " \n"
     ]
    }
   ],
   "source": [
    "count =0\n",
    "result = []\n",
    "for i in num:  # 56 81 227 279 300 ... 15001 15002\n",
    "  text = ''\n",
    "  for j in range(i+1): # 0 1 2 3 4 ... 56 (실제 57에서 값 변경) # 처음  j=15002\n",
    "    if count == 0: \n",
    "      text += sample1.loc[j,'text'] + ' '\n",
    "    elif j >= num[count-1] and count != 0:\n",
    "     # print(count, ' ') #249 에러\n",
    "      text += sample1.loc[j,'text'] + ' ' \n",
    "  result.append(text)\n",
    "  count += 1\n",
    "#print(result[0])\n",
    "\n"
   ]
  },
  {
   "cell_type": "code",
   "execution_count": 8,
   "metadata": {
    "colab": {
     "base_uri": "https://localhost:8080/"
    },
    "id": "tmNQb2Vly9BC",
    "outputId": "f965c23d-1140-43ce-ff16-5405703be2b1"
   },
   "outputs": [
    {
     "name": "stdout",
     "output_type": "stream",
     "text": [
      "Requirement already satisfied: konlpy in d:\\anaconda\\lib\\site-packages (0.5.2)\n",
      "Requirement already satisfied: colorama in d:\\anaconda\\lib\\site-packages (from konlpy) (0.4.4)\n",
      "Requirement already satisfied: JPype1>=0.7.0 in d:\\anaconda\\lib\\site-packages (from konlpy) (1.2.0)\n",
      "Requirement already satisfied: numpy>=1.6 in d:\\anaconda\\lib\\site-packages (from konlpy) (1.19.2)\n",
      "Requirement already satisfied: beautifulsoup4==4.6.0 in d:\\anaconda\\lib\\site-packages (from konlpy) (4.6.0)\n",
      "Requirement already satisfied: lxml>=4.1.0 in d:\\anaconda\\lib\\site-packages (from konlpy) (4.6.1)\n",
      "Requirement already satisfied: tweepy>=3.7.0 in d:\\anaconda\\lib\\site-packages (from konlpy) (3.10.0)\n",
      "Requirement already satisfied: requests-oauthlib>=0.7.0 in d:\\anaconda\\lib\\site-packages (from tweepy>=3.7.0->konlpy) (1.3.0)\n",
      "Requirement already satisfied: requests[socks]>=2.11.1 in d:\\anaconda\\lib\\site-packages (from tweepy>=3.7.0->konlpy) (2.24.0)\n",
      "Requirement already satisfied: six>=1.10.0 in d:\\anaconda\\lib\\site-packages (from tweepy>=3.7.0->konlpy) (1.15.0)\n",
      "Requirement already satisfied: oauthlib>=3.0.0 in d:\\anaconda\\lib\\site-packages (from requests-oauthlib>=0.7.0->tweepy>=3.7.0->konlpy) (3.1.0)\n",
      "Requirement already satisfied: certifi>=2017.4.17 in d:\\anaconda\\lib\\site-packages (from requests[socks]>=2.11.1->tweepy>=3.7.0->konlpy) (2020.6.20)\n",
      "Requirement already satisfied: urllib3!=1.25.0,!=1.25.1,<1.26,>=1.21.1 in d:\\anaconda\\lib\\site-packages (from requests[socks]>=2.11.1->tweepy>=3.7.0->konlpy) (1.25.11)\n",
      "Requirement already satisfied: idna<3,>=2.5 in d:\\anaconda\\lib\\site-packages (from requests[socks]>=2.11.1->tweepy>=3.7.0->konlpy) (2.10)\n",
      "Requirement already satisfied: chardet<4,>=3.0.2 in d:\\anaconda\\lib\\site-packages (from requests[socks]>=2.11.1->tweepy>=3.7.0->konlpy) (3.0.4)\n",
      "Requirement already satisfied: PySocks!=1.5.7,>=1.5.6 in d:\\anaconda\\lib\\site-packages (from requests[socks]>=2.11.1->tweepy>=3.7.0->konlpy) (1.7.1)\n",
      "Note: you may need to restart the kernel to use updated packages.\n"
     ]
    }
   ],
   "source": [
    "pip install konlpy"
   ]
  },
  {
   "cell_type": "code",
   "execution_count": 9,
   "metadata": {
    "colab": {
     "base_uri": "https://localhost:8080/"
    },
    "id": "QqRf-qzT0XaS",
    "outputId": "842503da-7f9a-4dad-88f9-2deae369006e"
   },
   "outputs": [
    {
     "name": "stdout",
     "output_type": "stream",
     "text": [
      "Requirement already satisfied: nltk in d:\\anaconda\\lib\\site-packages (3.6.2)\n",
      "Requirement already satisfied: regex in d:\\anaconda\\lib\\site-packages (from nltk) (2020.10.15)\n",
      "Requirement already satisfied: joblib in d:\\anaconda\\lib\\site-packages (from nltk) (0.17.0)\n",
      "Requirement already satisfied: click in d:\\anaconda\\lib\\site-packages (from nltk) (7.1.2)\n",
      "Requirement already satisfied: tqdm in d:\\anaconda\\lib\\site-packages (from nltk) (4.50.2)\n",
      "Note: you may need to restart the kernel to use updated packages.\n"
     ]
    }
   ],
   "source": [
    "pip install -U nltk"
   ]
  },
  {
   "cell_type": "code",
   "execution_count": 10,
   "metadata": {
    "id": "txX6cUgSw51Z"
   },
   "outputs": [],
   "source": [
    "import re\n",
    "from konlpy.tag import Okt\n",
    "from collections import Counter\n",
    "import matplotlib\n",
    "import matplotlib.pyplot as plt\n",
    "from matplotlib import font_manager, rc\n",
    "from wordcloud import WordCloud\n",
    "i=0\n",
    "for item in result:\n",
    "        result[i] = re.sub('[\\n]',' ', item)\n",
    "        i +=1\n",
    "\n"
   ]
  },
  {
   "cell_type": "code",
   "execution_count": null,
   "metadata": {
    "colab": {
     "base_uri": "https://localhost:8080/",
     "height": 1000
    },
    "id": "dCyEBHc5zIa1",
    "outputId": "2e72da70-3ab7-4b3c-e6af-91c1d4f43315"
   },
   "outputs": [],
   "source": [
    "nlp = Okt()\n",
    "for message in result:\n",
    "  message_N = nlp.nouns(message)\n",
    "  count = Counter(message_N)\n",
    "  word_count = dict()\n",
    "  for tag,counts in count.most_common(80):\n",
    "      if(len(str(tag))>1):\n",
    "          word_count[tag]= counts\n",
    "         # print(\"%s : %d\" % (tag,counts))\n",
    "  font_path = \"c:/Windows/fonts/malgun.ttf\"\n",
    "  font_name = font_manager.FontProperties(fname = font_path).get_name()\n",
    "  matplotlib.rc('font',family = font_name)\n",
    "  plt.figure(figsize = (12,5))\n",
    "  plt.xlabel('키워드')\n",
    "  plt.ylabel('빈도수')\n",
    "  plt.title('%d 번째 군집'%i)\n",
    "  plt.grid(True)\n",
    "  sorted_Keys = sorted(word_count, key=word_count.get,reverse = True)\n",
    "  sorted_Values = sorted(word_count.values(),reverse = True)\n",
    "  plt.bar(range(len(word_count)),sorted_Values, align= 'center')\n",
    "  plt.xticks(range(len(word_count)),list(sorted_Keys), rotation='75')\n",
    "  plt.show()\n"
   ]
  },
  {
   "cell_type": "markdown",
   "metadata": {
    "id": "ocvr3LSZa1py"
   },
   "source": [
    "# 새 섹션"
   ]
  },
  {
   "cell_type": "code",
   "execution_count": null,
   "metadata": {},
   "outputs": [],
   "source": []
  },
  {
   "cell_type": "code",
   "execution_count": null,
   "metadata": {},
   "outputs": [],
   "source": []
  }
 ],
 "metadata": {
  "colab": {
   "collapsed_sections": [],
   "name": "Untitled9.ipynb",
   "provenance": []
  },
  "kernelspec": {
   "display_name": "Python 3",
   "language": "python",
   "name": "python3"
  },
  "language_info": {
   "codemirror_mode": {
    "name": "ipython",
    "version": 3
   },
   "file_extension": ".py",
   "mimetype": "text/x-python",
   "name": "python",
   "nbconvert_exporter": "python",
   "pygments_lexer": "ipython3",
   "version": "3.8.5"
  }
 },
 "nbformat": 4,
 "nbformat_minor": 1
}
